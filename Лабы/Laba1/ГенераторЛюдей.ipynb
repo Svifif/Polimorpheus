{
 "cells": [
  {
   "cell_type": "code",
   "execution_count": 9,
   "id": "1cebaedc-e850-4215-9263-6a181d4be953",
   "metadata": {},
   "outputs": [
    {
     "name": "stdout",
     "output_type": "stream",
     "text": [
      "struct Teacher t1=new_teacher(\"Kuznetsov\", \"Ivan\", \"Vladislavovich\", 12, 7, 1985);\n",
      "struct Teacher t2=new_teacher(\"Kuznetsov\", \"Artem\", \"Alekseevich\", 25, 3, 1992);\n",
      "struct Teacher t3=new_teacher(\"Kovalev\", \"Konstantin\", \"Ruslanovich\", 19, 8, 1982);\n",
      "struct Teacher t4=new_teacher(\"Orlov\", \"Vladislav\", \"Ivanovich\", 19, 11, 1984);\n",
      "struct Teacher t5=new_teacher(\"Kovalev\", \"Artem\", \"Evgenyevich\", 25, 8, 1993);\n",
      "struct Teacher t6=new_teacher(\"Popov\", \"Sergey\", \"Nikolaevich\", 10, 7, 1989);\n",
      "struct Teacher t7=new_teacher(\"Ivanov\", \"Evgeniy\", \"Ivanovich\", 5, 4, 1999);\n",
      "struct Teacher t8=new_teacher(\"Nikolaev\", \"Artem\", \"Ivanovich\", 17, 9, 1998);\n",
      "struct Teacher t9=new_teacher(\"Kovalev\", \"Denis\", \"Sergeyevich\", 15, 8, 1985);\n",
      " add_value(*arr, t2, 2, *get_TeacherInfo );\n",
      " add_value(*arr, t3, 3, *get_TeacherInfo );\n",
      " add_value(*arr, t4, 4, *get_TeacherInfo );\n",
      " add_value(*arr, t5, 5, *get_TeacherInfo );\n",
      " add_value(*arr, t6, 6, *get_TeacherInfo );\n",
      " add_value(*arr, t7, 7, *get_TeacherInfo );\n",
      " add_value(*arr, t8, 8, *get_TeacherInfo );\n",
      " add_value(*arr, t9, 9, *get_TeacherInfo );\n"
     ]
    }
   ],
   "source": [
    "import random\n",
    "last_names = [\n",
    "    \"Ivanov\", \"Petrov\", \"Sidorov\", \"Smirnov\", \"Kuznetsov\",\n",
    "    \"Popov\", \"Vasiliev\", \"Mikhailov\", \"Fedorov\", \"Nikolaev\",\n",
    "    \"Orlov\", \"Zakharov\", \"Grigoryev\", \"Lebedev\", \"Kovalev\"\n",
    "]\n",
    "\n",
    "first_names = [\n",
    "    \"Ivan\", \"Petr\", \"Sergey\", \"Aleksey\", \"Dmitriy\",\n",
    "    \"Andrey\", \"Nikolai\", \"Artem\", \"Viktor\", \"Denis\",\n",
    "    \"Maxim\", \"Vladislav\", \"Evgeniy\", \"Konstantin\", \"Ruslan\"\n",
    "]\n",
    "\n",
    "middle_names = [\n",
    "    \"Ivanovich\", \"Petrovich\", \"Sergeyevich\", \"Alekseevich\", \"Dmitrievich\",\n",
    "    \"Andreevich\", \"Nikolaevich\", \"Artemovich\", \"Viktorovich\", \"Denisovich\",\n",
    "    \"Maximovich\", \"Vladislavovich\", \"Evgenyevich\", \"Konstantinovich\", \"Ruslanovich\"\n",
    "]\n",
    "\n",
    "\n",
    "\n",
    "for i in range(1,10):\n",
    "    last_name = random.choice(last_names)\n",
    "    first_name = random.choice(first_names)\n",
    "    middle_name = random.choice(middle_names)\n",
    "    day = random.randint(1, 28) \n",
    "    month = random.randint(1, 12)\n",
    "    year = random.randint(1970, 2000)  \n",
    "    print( f\"struct Teacher t{i}=new_teacher(\\\"{last_name}\\\", \\\"{first_name}\\\", \\\"{middle_name}\\\", {day}, {month}, {year});\")\n",
    "for i in range(2,10):  \n",
    "     print( f\" add_value(*arr, t{i}, {i}, *get_TeacherInfo );\")"
   ]
  },
  {
   "cell_type": "code",
   "execution_count": null,
   "id": "3232366e-5a10-4360-991d-3c8c98467795",
   "metadata": {},
   "outputs": [],
   "source": [
    "import random\n",
    "last_names = [\n",
    "    \"Ivanov\", \"Petrov\", \"Sidorov\", \"Smirnov\", \"Kuznetsov\",\n",
    "    \"Popov\", \"Vasiliev\", \"Mikhailov\", \"Fedorov\", \"Nikolaev\",\n",
    "    \"Orlov\", \"Zakharov\", \"Grigoryev\", \"Lebedev\", \"Kovalev\"\n",
    "]\n",
    "\n",
    "first_names = [\n",
    "    \"Ivan\", \"Petr\", \"Sergey\", \"Aleksey\", \"Dmitriy\",\n",
    "    \"Andrey\", \"Nikolai\", \"Artem\", \"Viktor\", \"Denis\",\n",
    "    \"Maxim\", \"Vladislav\", \"Evgeniy\", \"Konstantin\", \"Ruslan\"\n",
    "]\n",
    "\n",
    "middle_names = [\n",
    "    \"Ivanovich\", \"Petrovich\", \"Sergeyevich\", \"Alekseevich\", \"Dmitrievich\",\n",
    "    \"Andreevich\", \"Nikolaevich\", \"Artemovich\", \"Viktorovich\", \"Denisovich\",\n",
    "    \"Maximovich\", \"Vladislavovich\", \"Evgenyevich\", \"Konstantinovich\", \"Ruslanovich\"\n",
    "]\n",
    "\n",
    "\n",
    "\n",
    "for i in range(1,10):\n",
    "    last_name = random.choice(last_names)\n",
    "    first_name = random.choice(first_names)\n",
    "    middle_name = random.choice(middle_names)\n",
    "    day = random.randint(1, 28) \n",
    "    month = random.randint(1, 12)\n",
    "    year = random.randint(1970, 2000)  \n",
    "    print( f\"struct Teacher t{i}=new_teacher(\\\"{last_name}\\\", \\\"{first_name}\\\", \\\"{middle_name}\\\", {day}, {month}, {year});\")\n",
    "for i in range(2,10):  \n",
    "     print( f\" add_value(*arr, t{i}, {i}, *get_TeacherInfo );\")"
   ]
  },
  {
   "cell_type": "code",
   "execution_count": 13,
   "id": "6685aa5a-2ecb-4172-98b1-22da29bcad5f",
   "metadata": {},
   "outputs": [
    {
     "name": "stdout",
     "output_type": "stream",
     "text": [
      "struct Student t0=new_Student(\"Karpov\", \"Vladimir\", \"Pavlovich\", 10, 3, 1999);\n",
      "struct Student t1=new_Student(\"Sokolov\", \"Vladimir\", \"Andreevich\", 25, 7, 2007);\n",
      "struct Student t2=new_Student(\"Sokolov\", \"Andrei\", \"Romanovich\", 5, 10, 2007);\n",
      "struct Student t3=new_Student(\"Karpov\", \"Andrei\", \"Dmitrievich\", 2, 4, 2000);\n",
      "struct Student t4=new_Student(\"Gusev\", \"Roman\", \"Vadimovich\", 9, 10, 2005);\n",
      "struct Student t5=new_Student(\"Gusev\", \"Andrei\", \"Vladimirovich\", 17, 12, 2005);\n",
      "struct Student t6=new_Student(\"Semenov\", \"Evgeny\", \"Olegovich\", 25, 2, 2004);\n",
      "struct Student t7=new_Student(\"Dmitriev\", \"Roman\", \"Igorevich\", 9, 11, 1996);\n",
      "struct Student t8=new_Student(\"Semenov\", \"Pavel\", \"Evgenyevich\", 2, 11, 1995);\n",
      "struct Student t9=new_Student(\"Kolesnikov\", \"Sergei\", \"Vadimovich\", 23, 1, 2001);\n",
      " add_value(&arr, &t0, 0, ti );\n",
      " add_value(&arr, &t1, 1, ti );\n",
      " add_value(&arr, &t2, 2, ti );\n",
      " add_value(&arr, &t3, 3, ti );\n",
      " add_value(&arr, &t4, 4, ti );\n",
      " add_value(&arr, &t5, 5, ti );\n",
      " add_value(&arr, &t6, 6, ti );\n",
      " add_value(&arr, &t7, 7, ti );\n",
      " add_value(&arr, &t8, 8, ti );\n",
      " add_value(&arr, &t9, 9, ti );\n"
     ]
    }
   ],
   "source": [
    "import random\n",
    "last_names = [\n",
    "    \"Semenov\", \"Frolov\", \"Dmitriev\", \"Gusev\", \"Morozov\",\n",
    "    \"Tikhonov\", \"Karpov\", \"Sokolov\", \"Zaitsev\", \"Borisov\",\n",
    "    \"Kolesnikov\", \"Pavlov\", \"Vlasov\", \"Makarov\", \"Semyonov\"\n",
    "]\n",
    "\n",
    "first_names = [\n",
    "    \"Alexandr\", \"Vladimir\", \"Igor\", \"Nikita\", \"Oleg\",\n",
    "    \"Yuri\", \"Maksim\", \"Pavel\", \"Roman\", \"Andrei\",\n",
    "    \"Sergei\", \"Dmitry\", \"Viktor\", \"Evgeny\", \"Vadim\"\n",
    "]\n",
    "\n",
    "middle_names = [\n",
    "    \"Alexandrovich\", \"Vladimirovich\", \"Igorevich\", \"Nikitovich\", \"Olegovich\",\n",
    "    \"Yurovich\", \"Maksimovich\", \"Pavlovich\", \"Romanovich\", \"Andreevich\",\n",
    "    \"Sergeyevich\", \"Dmitrievich\", \"Viktorovich\", \"Evgenyevich\", \"Vadimovich\"\n",
    "]\n",
    "for i in range(0,10):\n",
    "    last_name = random.choice(last_names)\n",
    "    first_name = random.choice(first_names)\n",
    "    middle_name = random.choice(middle_names)\n",
    "    day = random.randint(1, 28) \n",
    "    month = random.randint(1, 12)\n",
    "    year = random.randint(1995, 2008)  \n",
    "    print( f\"struct Student t{i}=new_Student(\\\"{last_name}\\\", \\\"{first_name}\\\", \\\"{middle_name}\\\", {day}, {month}, {year});\")\n",
    "for i in range(0,10):  \n",
    "     print( f\" add_value(&arr, &t{i}, {i}, ti );\")"
   ]
  },
  {
   "cell_type": "code",
   "execution_count": null,
   "id": "3ca2c23b-f5cf-4908-aa1c-f4b996c3122e",
   "metadata": {},
   "outputs": [],
   "source": [
    "&arr, &t1, 0, ti"
   ]
  }
 ],
 "metadata": {
  "kernelspec": {
   "display_name": "Python [conda env:base] *",
   "language": "python",
   "name": "conda-base-py"
  },
  "language_info": {
   "codemirror_mode": {
    "name": "ipython",
    "version": 3
   },
   "file_extension": ".py",
   "mimetype": "text/x-python",
   "name": "python",
   "nbconvert_exporter": "python",
   "pygments_lexer": "ipython3",
   "version": "3.12.7"
  }
 },
 "nbformat": 4,
 "nbformat_minor": 5
}
